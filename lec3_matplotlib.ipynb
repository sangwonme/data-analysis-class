{
 "cells": [
  {
   "cell_type": "markdown",
   "id": "83654c34",
   "metadata": {},
   "source": [
    "# Matplotlib\n",
    "* 다양한 plot을 쉽게 그릴 수 있도록 도와주는 패키지\n",
    "* https://matplotlib.org/\n",
    "* https://soooprmx.com/matplotlib%EC%9D%98-%EA%B8%B0%EB%B3%B8-%EC%82%AC%EC%9A%A9%EB%B2%95-%EB%B0%8F-%EB%8B%A4%EB%A5%B8-%EC%8B%9C%EA%B0%81%ED%99%94-%EB%9D%BC%EC%9D%B4%EB%B8%8C%EB%9F%AC%EB%A6%AC/\n",
    "---\n",
    "### 오늘 배울 것\n",
    "1. shape, indexing\n",
    "2. pandas DataFrame을 numpy array로 변환하기\n",
    "3. 다양한 연산들"
   ]
  },
  {
   "cell_type": "code",
   "execution_count": null,
   "id": "d7c58cd1",
   "metadata": {},
   "outputs": [],
   "source": []
  }
 ],
 "metadata": {
  "kernelspec": {
   "display_name": "Python 3 (ipykernel)",
   "language": "python",
   "name": "python3"
  },
  "language_info": {
   "codemirror_mode": {
    "name": "ipython",
    "version": 3
   },
   "file_extension": ".py",
   "mimetype": "text/x-python",
   "name": "python",
   "nbconvert_exporter": "python",
   "pygments_lexer": "ipython3",
   "version": "3.10.2"
  }
 },
 "nbformat": 4,
 "nbformat_minor": 5
}
